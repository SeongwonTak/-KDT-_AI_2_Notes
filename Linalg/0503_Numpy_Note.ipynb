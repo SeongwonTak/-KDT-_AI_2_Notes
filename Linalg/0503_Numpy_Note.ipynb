{
  "nbformat": 4,
  "nbformat_minor": 0,
  "metadata": {
    "colab": {
      "name": "0503_Numpy_Note.ipynb",
      "provenance": [],
      "authorship_tag": "ABX9TyM8v07lFLMaBXlj6DJRdU8B",
      "include_colab_link": true
    },
    "kernelspec": {
      "name": "python3",
      "display_name": "Python 3"
    },
    "language_info": {
      "name": "python"
    }
  },
  "cells": [
    {
      "cell_type": "markdown",
      "metadata": {
        "id": "view-in-github",
        "colab_type": "text"
      },
      "source": [
        "<a href=\"https://colab.research.google.com/github/SeongwonTak/-KDT-_AI_2_Notes/blob/main/Linalg/0503_Numpy_Note.ipynb\" target=\"_parent\"><img src=\"https://colab.research.google.com/assets/colab-badge.svg\" alt=\"Open In Colab\"/></a>"
      ]
    },
    {
      "cell_type": "markdown",
      "metadata": {
        "id": "bvdvZN81s2uk"
      },
      "source": [
        "# Numpy "
      ]
    },
    {
      "cell_type": "code",
      "metadata": {
        "id": "-3QUFPYbu8sr"
      },
      "source": [
        "import numpy as np"
      ],
      "execution_count": 4,
      "outputs": []
    },
    {
      "cell_type": "markdown",
      "metadata": {
        "id": "9ZtBQ-gqs-Rz"
      },
      "source": [
        "## Matrix Indexing"
      ]
    },
    {
      "cell_type": "code",
      "metadata": {
        "colab": {
          "base_uri": "https://localhost:8080/"
        },
        "id": "YQId6jzvs928",
        "outputId": "4a05672b-d916-4f1c-f048-2d06599bc033"
      },
      "source": [
        "a = np.array([[1,2,3,4],[4,5,6,7],[7,8,9,10]])\n",
        "b = a[1:3, 0:2]\n",
        "print(b)"
      ],
      "execution_count": 12,
      "outputs": [
        {
          "output_type": "stream",
          "text": [
            "[[4 5]\n",
            " [7 8]]\n"
          ],
          "name": "stdout"
        }
      ]
    },
    {
      "cell_type": "markdown",
      "metadata": {
        "id": "PPEkehi6szRe"
      },
      "source": [
        "## Array의 BroadCasting"
      ]
    },
    {
      "cell_type": "code",
      "metadata": {
        "colab": {
          "base_uri": "https://localhost:8080/"
        },
        "id": "KrYeT3L7svjG",
        "outputId": "1f48002c-4f1a-4591-ec47-d6aa5367b73d"
      },
      "source": [
        "# Example 1 M*N, 1*N의 연산\n",
        "a = np.array([[1,2,3],[4,5,6],[7,8,9]])\n",
        "x = np.array([0,2,5])\n",
        "a * x\n",
        "# 결과가 각 행별로 적용 완료."
      ],
      "execution_count": 13,
      "outputs": [
        {
          "output_type": "execute_result",
          "data": {
            "text/plain": [
              "array([[ 0,  4, 15],\n",
              "       [ 0, 10, 30],\n",
              "       [ 0, 16, 45]])"
            ]
          },
          "metadata": {
            "tags": []
          },
          "execution_count": 13
        }
      ]
    },
    {
      "cell_type": "code",
      "metadata": {
        "colab": {
          "base_uri": "https://localhost:8080/"
        },
        "id": "jHG6BSABtLAl",
        "outputId": "93d46836-941d-46a3-d7fa-dbc2f77f155e"
      },
      "source": [
        "# Example 2 M*N, M*1의 연산\n",
        "a = np.array([[1,2,3,4],[4,5,6,7],[7,8,9,10]])\n",
        "x = np.array([0,9,99])\n",
        "\n",
        "x = x[:, None]\n",
        "print(x)\n",
        "print(a + x)\n",
        "# 결과가 각 행별로 적용 완료."
      ],
      "execution_count": 7,
      "outputs": [
        {
          "output_type": "stream",
          "text": [
            "[[ 0]\n",
            " [ 9]\n",
            " [99]]\n",
            "[[  1   2   3   4]\n",
            " [ 13  14  15  16]\n",
            " [106 107 108 109]]\n"
          ],
          "name": "stdout"
        }
      ]
    },
    {
      "cell_type": "code",
      "metadata": {
        "colab": {
          "base_uri": "https://localhost:8080/"
        },
        "id": "1Rsd8LWCvpjU",
        "outputId": "7dbbce06-1c64-47c6-bc44-5731ce464b3f"
      },
      "source": [
        "# 주의사항\n",
        "X = np.array([1, 3, 9])\n",
        "X1 = X[:, None]\n",
        "X2 = X.T  # 1차원이면 잘 안된다. X1처럼 해야한다.\n",
        "print(X1)\n",
        "print(X2)"
      ],
      "execution_count": 10,
      "outputs": [
        {
          "output_type": "stream",
          "text": [
            "[[1]\n",
            " [3]\n",
            " [9]]\n",
            "[1 3 9]\n"
          ],
          "name": "stdout"
        }
      ]
    },
    {
      "cell_type": "code",
      "metadata": {
        "colab": {
          "base_uri": "https://localhost:8080/"
        },
        "id": "FI3AlZhqtN_T",
        "outputId": "ad9b7784-975c-4ad0-8558-a006a4d11a19"
      },
      "source": [
        "# Example 3  M*1  1*N의 연산\n",
        "t = np.array([1, 2, 3])\n",
        "t = t[:,None] # t 전치\n",
        "u = np.array([3, 2, 1])\n",
        "print( t + u)\n",
        "\n",
        "#([1,1,1],[2,2,2],[3,3,3]) + ([3,2,1]. [3,2,1], [3,2,1])"
      ],
      "execution_count": 15,
      "outputs": [
        {
          "output_type": "stream",
          "text": [
            "[[4 3 2]\n",
            " [5 4 3]\n",
            " [6 5 4]]\n"
          ],
          "name": "stdout"
        }
      ]
    },
    {
      "cell_type": "markdown",
      "metadata": {
        "id": "RYACjCrzw3rs"
      },
      "source": [
        "# Numpy와 선형대수"
      ]
    },
    {
      "cell_type": "code",
      "metadata": {
        "colab": {
          "base_uri": "https://localhost:8080/"
        },
        "id": "iHqw8Mo7wviQ",
        "outputId": "62c5f83b-9b7d-4bac-850e-0d3e44ecef47"
      },
      "source": [
        "# Zero Vector\n",
        "np.zeros((2,3))"
      ],
      "execution_count": 16,
      "outputs": [
        {
          "output_type": "execute_result",
          "data": {
            "text/plain": [
              "array([[0., 0., 0.],\n",
              "       [0., 0., 0.]])"
            ]
          },
          "metadata": {
            "tags": []
          },
          "execution_count": 16
        }
      ]
    },
    {
      "cell_type": "code",
      "metadata": {
        "colab": {
          "base_uri": "https://localhost:8080/"
        },
        "id": "DumrkrQ3xz2U",
        "outputId": "5a89857f-5ab5-4ebc-ee17-766c2327fad6"
      },
      "source": [
        "# One Vector\n",
        "np.ones((4,2))"
      ],
      "execution_count": 17,
      "outputs": [
        {
          "output_type": "execute_result",
          "data": {
            "text/plain": [
              "array([[1., 1.],\n",
              "       [1., 1.],\n",
              "       [1., 1.],\n",
              "       [1., 1.]])"
            ]
          },
          "metadata": {
            "tags": []
          },
          "execution_count": 17
        }
      ]
    },
    {
      "cell_type": "code",
      "metadata": {
        "colab": {
          "base_uri": "https://localhost:8080/"
        },
        "id": "Prgpp8D1x42j",
        "outputId": "eb403aa6-87c1-473e-a912-c4eb81282a5b"
      },
      "source": [
        "# diagonal_matrix 생성\n",
        "np.diag((1, 2, 3, 4))"
      ],
      "execution_count": 19,
      "outputs": [
        {
          "output_type": "execute_result",
          "data": {
            "text/plain": [
              "array([[1, 0, 0, 0],\n",
              "       [0, 2, 0, 0],\n",
              "       [0, 0, 3, 0],\n",
              "       [0, 0, 0, 4]])"
            ]
          },
          "metadata": {
            "tags": []
          },
          "execution_count": 19
        }
      ]
    },
    {
      "cell_type": "code",
      "metadata": {
        "colab": {
          "base_uri": "https://localhost:8080/"
        },
        "id": "cd3bkcS0yODh",
        "outputId": "1f8f9969-9585-43bf-cdb5-5f55bcc63a0d"
      },
      "source": [
        "# identity_matrix 생성\n",
        "# dtype을 지정 가능 (int, flot, unsigned_int, complex?)\n",
        "np.eye(4, dtype=int)"
      ],
      "execution_count": 21,
      "outputs": [
        {
          "output_type": "execute_result",
          "data": {
            "text/plain": [
              "array([[1, 0, 0, 0],\n",
              "       [0, 1, 0, 0],\n",
              "       [0, 0, 1, 0],\n",
              "       [0, 0, 0, 1]])"
            ]
          },
          "metadata": {
            "tags": []
          },
          "execution_count": 21
        }
      ]
    },
    {
      "cell_type": "code",
      "metadata": {
        "colab": {
          "base_uri": "https://localhost:8080/"
        },
        "id": "lwo6R_SqzTv3",
        "outputId": "44c7d67e-ed3c-4546-fb11-560c32fe9db8"
      },
      "source": [
        "# np_dot matrix\n",
        "mat_1 = np.array([[1, 4], [2, 3]])\n",
        "mat_2 = np.array([[5, 1], [-1, 4]])\n",
        "mat_1 @ mat_2\n",
        "# mat_1.dot(mat_2)"
      ],
      "execution_count": 22,
      "outputs": [
        {
          "output_type": "execute_result",
          "data": {
            "text/plain": [
              "array([[ 1, 17],\n",
              "       [ 7, 14]])"
            ]
          },
          "metadata": {
            "tags": []
          },
          "execution_count": 22
        }
      ]
    },
    {
      "cell_type": "code",
      "metadata": {
        "colab": {
          "base_uri": "https://localhost:8080/"
        },
        "id": "s3hLgESd0kMf",
        "outputId": "291ed81d-6751-4969-90ef-12ff1f56482a"
      },
      "source": [
        "# trace, det, inv\n",
        "a = np.array([[1,2,3],[4,5,7],[7,8,9]])\n",
        "print(a.trace())\n",
        "print(np.linalg.det(a))\n",
        "print(np.linalg.inv(a))"
      ],
      "execution_count": 27,
      "outputs": [
        {
          "output_type": "stream",
          "text": [
            "15\n",
            "6.0\n",
            "[[-1.83333333  1.         -0.16666667]\n",
            " [ 2.16666667 -2.          0.83333333]\n",
            " [-0.5         1.         -0.5       ]]\n"
          ],
          "name": "stdout"
        }
      ]
    },
    {
      "cell_type": "code",
      "metadata": {
        "colab": {
          "base_uri": "https://localhost:8080/"
        },
        "id": "0etUxa1530TE",
        "outputId": "17f7e340-7833-41ac-b20b-a79c9ef80c9a"
      },
      "source": [
        "# eigen value and eigen vector\n",
        "a = np.array([[1,0,1],[0,1,1],[2,1,1]])\n",
        "np.linalg.eig(a)\n",
        "# column이 eigenvector임에 주의하자."
      ],
      "execution_count": 29,
      "outputs": [
        {
          "output_type": "execute_result",
          "data": {
            "text/plain": [
              "(array([-0.73205081,  2.73205081,  1.        ]),\n",
              " array([[-4.47213595e-01,  4.47213595e-01,  4.47213595e-01],\n",
              "        [-4.47213595e-01,  4.47213595e-01, -8.94427191e-01],\n",
              "        [ 7.74596669e-01,  7.74596669e-01,  1.82289065e-17]]))"
            ]
          },
          "metadata": {
            "tags": []
          },
          "execution_count": 29
        }
      ]
    },
    {
      "cell_type": "code",
      "metadata": {
        "colab": {
          "base_uri": "https://localhost:8080/"
        },
        "id": "YW27UWwX5R6-",
        "outputId": "789d6cf9-4691-4384-9ea2-0a23e864ff9e"
      },
      "source": [
        "# validation of eigen_vector\n",
        "eig_val, eig_vec = np.linalg.eig(a)\n",
        "a @ eig_vec[:, 0]"
      ],
      "execution_count": 30,
      "outputs": [
        {
          "output_type": "execute_result",
          "data": {
            "text/plain": [
              "array([ 0.32738307,  0.32738307, -0.56704412])"
            ]
          },
          "metadata": {
            "tags": []
          },
          "execution_count": 30
        }
      ]
    },
    {
      "cell_type": "code",
      "metadata": {
        "colab": {
          "base_uri": "https://localhost:8080/"
        },
        "id": "8L_Atvo45pQk",
        "outputId": "221bfd28-af8d-4d6d-9202-0c3bcde4d3e2"
      },
      "source": [
        "eig_val[0] * eig_vec[:, 0]"
      ],
      "execution_count": 31,
      "outputs": [
        {
          "output_type": "execute_result",
          "data": {
            "text/plain": [
              "array([ 0.32738307,  0.32738307, -0.56704412])"
            ]
          },
          "metadata": {
            "tags": []
          },
          "execution_count": 31
        }
      ]
    }
  ]
}