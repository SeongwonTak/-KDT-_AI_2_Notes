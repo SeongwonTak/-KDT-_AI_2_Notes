{
  "nbformat": 4,
  "nbformat_minor": 0,
  "metadata": {
    "kernelspec": {
      "display_name": "Python 3",
      "language": "python",
      "name": "python3"
    },
    "language_info": {
      "codemirror_mode": {
        "name": "ipython",
        "version": 3
      },
      "file_extension": ".py",
      "mimetype": "text/x-python",
      "name": "python",
      "nbconvert_exporter": "python",
      "pygments_lexer": "ipython3",
      "version": "3.8.5"
    },
    "colab": {
      "name": "0426_Numpy_Basics.ipynb",
      "provenance": [],
      "include_colab_link": true
    }
  },
  "cells": [
    {
      "cell_type": "markdown",
      "metadata": {
        "id": "view-in-github",
        "colab_type": "text"
      },
      "source": [
        "<a href=\"https://colab.research.google.com/github/SeongwonTak/-KDT-_AI_2_Notes/blob/main/Linalg/0426_Numpy_Basics.ipynb\" target=\"_parent\"><img src=\"https://colab.research.google.com/assets/colab-badge.svg\" alt=\"Open In Colab\"/></a>"
      ]
    },
    {
      "cell_type": "markdown",
      "metadata": {
        "id": "5WZD_9OK3iux"
      },
      "source": [
        "## Numpy의 기초"
      ]
    },
    {
      "cell_type": "code",
      "metadata": {
        "id": "ZM5ImuMe3ivC"
      },
      "source": [
        "import numpy as np"
      ],
      "execution_count": null,
      "outputs": []
    },
    {
      "cell_type": "code",
      "metadata": {
        "id": "qWrBgeHL3ivE",
        "outputId": "8dcada8d-0c2b-4ba8-eb36-8daa186f438c"
      },
      "source": [
        "# 리스트 복습\n",
        "arr = [1, \"two\", 3.141592, 3+7]\n",
        "print(arr)"
      ],
      "execution_count": null,
      "outputs": [
        {
          "output_type": "stream",
          "text": [
            "[1, 'two', 3.141592, 10]\n"
          ],
          "name": "stdout"
        }
      ]
    },
    {
      "cell_type": "markdown",
      "metadata": {
        "id": "eJxrTwiY3ivH"
      },
      "source": [
        "리스트는 연산이 느리다.  \n",
        "수치 연산을 위해 리스트 대신에 Numpy 라이브러리를 사용하자.  \n",
        "이를 통해 다양한 행렬 다루는 짓을 편히 할 수 있다.  \n",
        "\n",
        "연산 속도를 비교하자."
      ]
    },
    {
      "cell_type": "code",
      "metadata": {
        "id": "RfzxhQ9m3ivI",
        "outputId": "43e25693-fce0-4d34-a771-2772f969ca1b"
      },
      "source": [
        "# 리스트\n",
        "L = range(1000)\n",
        "\n",
        "%timeit [i ** 2 for i in L] # %는 magic keyword. jupyter뿐"
      ],
      "execution_count": null,
      "outputs": [
        {
          "output_type": "stream",
          "text": [
            "346 µs ± 52.5 µs per loop (mean ± std. dev. of 7 runs, 1000 loops each)\n"
          ],
          "name": "stdout"
        }
      ]
    },
    {
      "cell_type": "code",
      "metadata": {
        "scrolled": true,
        "id": "m9PvcyTc3ivK",
        "outputId": "26aea989-950e-429b-8d8b-bf4ac4f28c48"
      },
      "source": [
        "# 넘파이\n",
        "N = np.arange(1000)\n",
        "%timeit N**2"
      ],
      "execution_count": null,
      "outputs": [
        {
          "output_type": "stream",
          "text": [
            "2.71 µs ± 77.1 ns per loop (mean ± std. dev. of 7 runs, 100000 loops each)\n"
          ],
          "name": "stdout"
        }
      ]
    },
    {
      "cell_type": "markdown",
      "metadata": {
        "id": "s1oVNzKh3ivL"
      },
      "source": [
        "### Numpy array"
      ]
    },
    {
      "cell_type": "code",
      "metadata": {
        "id": "fr5YfnKe3ivM",
        "outputId": "8a296bbf-b5dc-43be-eb3f-86c8ee9a4ed1"
      },
      "source": [
        "arr = np.array([1, 2, 3])\n",
        "\n",
        "arr"
      ],
      "execution_count": null,
      "outputs": [
        {
          "output_type": "execute_result",
          "data": {
            "text/plain": [
              "array([1, 2, 3])"
            ]
          },
          "metadata": {
            "tags": []
          },
          "execution_count": 11
        }
      ]
    },
    {
      "cell_type": "code",
      "metadata": {
        "id": "lkQU-JP23ivN",
        "outputId": "36b5e16c-85e3-4b0f-e9bf-c6f1938e5e35"
      },
      "source": [
        "arr_2d = np.array([[1, 2], [3, 6], [5, 10]])\n",
        "\n",
        "arr_2d"
      ],
      "execution_count": null,
      "outputs": [
        {
          "output_type": "execute_result",
          "data": {
            "text/plain": [
              "array([[ 1,  2],\n",
              "       [ 3,  6],\n",
              "       [ 5, 10]])"
            ]
          },
          "metadata": {
            "tags": []
          },
          "execution_count": 18
        }
      ]
    },
    {
      "cell_type": "code",
      "metadata": {
        "id": "hA9QqmTz3ivO",
        "outputId": "01f0cd9e-deed-469e-8585-bb8f5521a8e2"
      },
      "source": [
        "arr_2d.shape"
      ],
      "execution_count": null,
      "outputs": [
        {
          "output_type": "execute_result",
          "data": {
            "text/plain": [
              "(3, 2)"
            ]
          },
          "metadata": {
            "tags": []
          },
          "execution_count": 14
        }
      ]
    },
    {
      "cell_type": "code",
      "metadata": {
        "id": "cU2nO0v83ivO",
        "outputId": "02b8aa89-fa69-49af-a3b7-334355166110"
      },
      "source": [
        "arr_2d.ndim"
      ],
      "execution_count": null,
      "outputs": [
        {
          "output_type": "execute_result",
          "data": {
            "text/plain": [
              "2"
            ]
          },
          "metadata": {
            "tags": []
          },
          "execution_count": 19
        }
      ]
    },
    {
      "cell_type": "code",
      "metadata": {
        "id": "MI0bHGX83ivP",
        "outputId": "b454c2d1-e90f-4b5f-ea62-13330f0f8b96"
      },
      "source": [
        "#참고 여기서 말하는 행렬 차원과 ramk 다르다.\n",
        "np.linalg.matrix_rank(arr_2d)"
      ],
      "execution_count": null,
      "outputs": [
        {
          "output_type": "execute_result",
          "data": {
            "text/plain": [
              "1"
            ]
          },
          "metadata": {
            "tags": []
          },
          "execution_count": 22
        }
      ]
    }
  ]
}