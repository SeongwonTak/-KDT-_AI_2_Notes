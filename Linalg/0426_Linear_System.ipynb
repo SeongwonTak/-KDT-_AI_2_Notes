{
  "nbformat": 4,
  "nbformat_minor": 0,
  "metadata": {
    "colab": {
      "name": "0426_Linear_System.ipynb",
      "provenance": [],
      "authorship_tag": "ABX9TyNuXv5ufGdpkOvCJdLck2ah",
      "include_colab_link": true
    },
    "kernelspec": {
      "name": "python3",
      "display_name": "Python 3"
    },
    "language_info": {
      "name": "python"
    }
  },
  "cells": [
    {
      "cell_type": "markdown",
      "metadata": {
        "id": "view-in-github",
        "colab_type": "text"
      },
      "source": [
        "<a href=\"https://colab.research.google.com/github/SeongwonTak/-KDT-_AI_2_Notes/blob/main/Linalg/0426_Linear_System.ipynb\" target=\"_parent\"><img src=\"https://colab.research.google.com/assets/colab-badge.svg\" alt=\"Open In Colab\"/></a>"
      ]
    },
    {
      "cell_type": "markdown",
      "metadata": {
        "id": "DDHpv5p-6WHw"
      },
      "source": [
        "## Linear Systems with Numpy\n",
        "\n",
        "$Ax = b$ 문제의 해결 및 Numpy를 사용한 풀이법에 대해 알아보자.\n"
      ]
    },
    {
      "cell_type": "code",
      "metadata": {
        "id": "cnmebnhC6UXe"
      },
      "source": [
        "import numpy as np"
      ],
      "execution_count": 1,
      "outputs": []
    },
    {
      "cell_type": "code",
      "metadata": {
        "colab": {
          "base_uri": "https://localhost:8080/"
        },
        "id": "NPbyjTiqBg19",
        "outputId": "13528382-9b01-446d-87a8-d6e1b4f80e84"
      },
      "source": [
        "# 행렬 표현\n",
        "A = np.array([[3, 1, 1], [1, -2, -1], [1, 1, 1]])\n",
        "\n",
        "print(A)\n",
        "print(np.shape(A))"
      ],
      "execution_count": 3,
      "outputs": [
        {
          "output_type": "stream",
          "text": [
            "[[ 3  1  1]\n",
            " [ 1 -2 -1]\n",
            " [ 1  1  1]]\n",
            "(3, 3)\n"
          ],
          "name": "stdout"
        }
      ]
    },
    {
      "cell_type": "code",
      "metadata": {
        "id": "GY2mEh-MBz-i"
      },
      "source": [
        "# 상수항\n",
        "b = np.array([4, 1, 2])"
      ],
      "execution_count": 5,
      "outputs": []
    },
    {
      "cell_type": "code",
      "metadata": {
        "colab": {
          "base_uri": "https://localhost:8080/"
        },
        "id": "eFKNdus-C9eS",
        "outputId": "974995d9-c3f0-435a-a895-6f4a2a7e3962"
      },
      "source": [
        "# 역행렬\n",
        "A_inv = np.linalg.inv(A)\n",
        "\n",
        "print(A_inv)"
      ],
      "execution_count": 6,
      "outputs": [
        {
          "output_type": "stream",
          "text": [
            "[[ 5.00000000e-01 -7.40148683e-17 -5.00000000e-01]\n",
            " [ 1.00000000e+00 -1.00000000e+00 -2.00000000e+00]\n",
            " [-1.50000000e+00  1.00000000e+00  3.50000000e+00]]\n"
          ],
          "name": "stdout"
        }
      ]
    },
    {
      "cell_type": "code",
      "metadata": {
        "colab": {
          "base_uri": "https://localhost:8080/"
        },
        "id": "lvitVW2nDso7",
        "outputId": "d0e39078-f024-461f-d073-584bc247524e"
      },
      "source": [
        "# 역행렬 곱해서 풀기\n",
        "x = A_inv @ b\n",
        "print(x)"
      ],
      "execution_count": 7,
      "outputs": [
        {
          "output_type": "stream",
          "text": [
            "[ 1. -1.  2.]\n"
          ],
          "name": "stdout"
        }
      ]
    },
    {
      "cell_type": "code",
      "metadata": {
        "colab": {
          "base_uri": "https://localhost:8080/"
        },
        "id": "zAY1v9QqD49_",
        "outputId": "37a1c22f-20b7-47a3-cbc9-8b2e9e8834ce"
      },
      "source": [
        "# 검증\n",
        "bb = A @ x\n",
        "print(bb)\n",
        "\n",
        "# 역행렬을 수치해석적으로 계산하기에 norm의 크기로 검증한다.\n",
        "if np.linalg.norm(b - bb) < 1e-5:\n",
        "  print(\"Solution is nice:)\")\n",
        "else:\n",
        "  print(\"Something went worng:(\")"
      ],
      "execution_count": 10,
      "outputs": [
        {
          "output_type": "stream",
          "text": [
            "[4. 1. 2.]\n",
            "Solution is nice\n"
          ],
          "name": "stdout"
        }
      ]
    },
    {
      "cell_type": "markdown",
      "metadata": {
        "id": "EeSWXbmNEqSe"
      },
      "source": [
        "Remark. np.matmul(A, B)로도 행렬 계산 가능."
      ]
    },
    {
      "cell_type": "code",
      "metadata": {
        "colab": {
          "base_uri": "https://localhost:8080/"
        },
        "id": "d4Nl7QxhEwD5",
        "outputId": "2080df60-73b1-4be1-8d9e-119d5a365c96"
      },
      "source": [
        "bb1 = A @ x\n",
        "bb2 = np.matmul(A, x)\n",
        "\n",
        "print(bb1)\n",
        "print(bb2)"
      ],
      "execution_count": 11,
      "outputs": [
        {
          "output_type": "stream",
          "text": [
            "[4. 1. 2.]\n",
            "[4. 1. 2.]\n"
          ],
          "name": "stdout"
        }
      ]
    }
  ]
}