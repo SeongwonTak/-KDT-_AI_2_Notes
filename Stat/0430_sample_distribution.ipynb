{
  "nbformat": 4,
  "nbformat_minor": 0,
  "metadata": {
    "colab": {
      "name": "0430_sample_distribution.ipynb",
      "provenance": [],
      "authorship_tag": "ABX9TyOUboh453JmaOtcK5Ybxfe3",
      "include_colab_link": true
    },
    "kernelspec": {
      "name": "python3",
      "display_name": "Python 3"
    },
    "language_info": {
      "name": "python"
    }
  },
  "cells": [
    {
      "cell_type": "markdown",
      "metadata": {
        "id": "view-in-github",
        "colab_type": "text"
      },
      "source": [
        "<a href=\"https://colab.research.google.com/github/SeongwonTak/-KDT-_AI_2_Notes/blob/main/Stat/0430_sample_distribution.ipynb\" target=\"_parent\"><img src=\"https://colab.research.google.com/assets/colab-badge.svg\" alt=\"Open In Colab\"/></a>"
      ]
    },
    {
      "cell_type": "markdown",
      "metadata": {
        "id": "fv9Nxpo7lOUs"
      },
      "source": [
        "# 표본분포"
      ]
    },
    {
      "cell_type": "markdown",
      "metadata": {
        "id": "xh7OqQnCpKLR"
      },
      "source": [
        "표본평균의 분포에 대해 알아보자."
      ]
    },
    {
      "cell_type": "code",
      "metadata": {
        "id": "TzNKajm1juYW"
      },
      "source": [
        "import numpy as np\n",
        "import matplotlib.pyplot as plt"
      ],
      "execution_count": null,
      "outputs": []
    },
    {
      "cell_type": "code",
      "metadata": {
        "colab": {
          "base_uri": "https://localhost:8080/"
        },
        "id": "yFecUEg8j4Qx",
        "outputId": "d763dc71-bd3c-479a-e453-48967261bb7b"
      },
      "source": [
        "# 표준정규분포 기준으로 10개의  숫자를 추출 후, 평균을 내는 것을 10,000번 실시\n",
        "# 즉 표본평균하고 표분분산의 변화를 확인해봄\n",
        "# 표본분산의 값은 모분산 / 표본의 크기.\n",
        "xbar = [np.mean(np.random.normal(size=1)) for i in range(10000)]\n",
        "xbars_poll = [np.mean(np.random.normal(size=10)) for i in range(10000)]\n",
        "print('pop mean : %f, pop var %f' % (np.mean(xbar), np.var(xbar)))\n",
        "print('sample mean : %f, sample var %f' % (np.mean(xbars_poll), np.var(xbars_poll)))"
      ],
      "execution_count": null,
      "outputs": [
        {
          "output_type": "stream",
          "text": [
            "pop mean : -0.009021, pop var 1.011606\n",
            "sample mean : 0.002083, sample var 0.100167\n"
          ],
          "name": "stdout"
        }
      ]
    },
    {
      "cell_type": "code",
      "metadata": {
        "colab": {
          "base_uri": "https://localhost:8080/",
          "height": 283
        },
        "id": "zCKSpQgRlcdA",
        "outputId": "0712db28-d080-4c65-fef6-ba05c3a3d186"
      },
      "source": [
        "xbars_plt = [np.mean(np.random.normal(loc = 5, scale = 3, size = 10)) for i in range(10000)]\n",
        "print('sample mean : %f, sample var %f' % (np.mean(xbars_plt), np.var(xbars_plt)))\n",
        "plt.hist(xbars_plt, range = (0, 10), bins = 25)\n",
        "plt.grid()\n",
        "plt.show()"
      ],
      "execution_count": null,
      "outputs": [
        {
          "output_type": "stream",
          "text": [
            "sample mean : 5.004395, sample var 0.896937\n"
          ],
          "name": "stdout"
        },
        {
          "output_type": "display_data",
          "data": {
            "image/png": "[encoded data removed]",
            "text/plain": [
              "<Figure size 432x288 with 1 Axes>"
            ]
          },
          "metadata": {
            "tags": [],
            "needs_background": "light"
          }
        }
      ]
    },
    {
      "cell_type": "markdown",
      "metadata": {
        "id": "3s5LqGZeoFOS"
      },
      "source": [
        "## 지수 분포의 경우"
      ]
    },
    {
      "cell_type": "code",
      "metadata": {
        "colab": {
          "base_uri": "https://localhost:8080/",
          "height": 286
        },
        "id": "xT9ePPhzoHkC",
        "outputId": "6de93af4-1d15-475b-ce84-6bff9c291a2d"
      },
      "source": [
        "xbar_po = [np.mean(np.random.exponential(scale = 3, size = 2)) for i in range(10000)]\n",
        "print('sample mean : %f, sample var %f' % (np.mean(xbar_po), np.var(xbar_po)))\n",
        "plt.hist(xbar_po, range = (0, 10), bins = 50)\n",
        "plt.grid()\n",
        "plt.show()"
      ],
      "execution_count": null,
      "outputs": [
        {
          "output_type": "stream",
          "text": [
            "sample mean : 2.977401, sample var 4.446009\n"
          ],
          "name": "stdout"
        },
        {
          "output_type": "display_data",
          "data": {
            "image/png": "[encoded data removed]",
            "text/plain": [
              "<Figure size 432x288 with 1 Axes>"
            ]
          },
          "metadata": {
            "tags": [],
            "needs_background": "light"
          }
        }
      ]
    },
    {
      "cell_type": "markdown",
      "metadata": {
        "id": "pY65q_r7ohnV"
      },
      "source": [
        "다른 확률 분포에서도 동일한 방식으로, 표본분산은 모분산 / 표본개수 가 성립함을 실험을 통해 확인해 볼 수 있다."
      ]
    },
    {
      "cell_type": "markdown",
      "metadata": {
        "id": "QxpuWPFumDMM"
      },
      "source": [
        "## 중심극한정리(Central limit theorem)\n",
        "일반적인 모집단에서 추출을 해도, n이 충분히 큰 경우에 표본분포는 ***근사적으로*** 정규분포를 따르게 된다. (n이 30 이상이라고 고려한다)"
      ]
    },
    {
      "cell_type": "code",
      "metadata": {
        "colab": {
          "base_uri": "https://localhost:8080/",
          "height": 283
        },
        "id": "K-M3UZjYmCVK",
        "outputId": "a9954d36-4d40-4831-c5e0-4c2c8dc6bfbf"
      },
      "source": [
        "# 중심극한정리의 실험\n",
        "xbar_cent = [np.mean(np.random.rand(3) * 10) for i in range(10000)]\n",
        "print('sample mean : %f, sample var %f' % (np.mean(xbar_cent), np.var(xbar_cent)))\n",
        "plt.hist(xbar_cent, range = (0, 10), bins = 50)\n",
        "plt.grid()\n",
        "plt.show()\n",
        "\n",
        "# 약간 차이가 있어도, 어느정도 근사하고 있음을 알 수 있다."
      ],
      "execution_count": null,
      "outputs": [
        {
          "output_type": "stream",
          "text": [
            "sample mean : 4.998744, sample var 2.814709\n"
          ],
          "name": "stdout"
        },
        {
          "output_type": "display_data",
          "data": {
            "image/png": "[encoded data removed]",
            "text/plain": [
              "<Figure size 432x288 with 1 Axes>"
            ]
          },
          "metadata": {
            "tags": [],
            "needs_background": "light"
          }
        }
      ]
    },
    {
      "cell_type": "markdown",
      "metadata": {
        "id": "t6Nh2Pndnxk8"
      },
      "source": [
        "Remark. 정규성 검정을 통해 어느정도 정규성을 따르는지 알 수 있다."
      ]
    }
  ]
}