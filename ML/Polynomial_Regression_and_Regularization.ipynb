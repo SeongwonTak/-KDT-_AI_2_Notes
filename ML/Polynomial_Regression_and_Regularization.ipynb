{
  "nbformat": 4,
  "nbformat_minor": 0,
  "metadata": {
    "colab": {
      "name": "Polynomial Regression and Regularization.ipynb",
      "provenance": [],
      "toc_visible": true,
      "authorship_tag": "ABX9TyPux0/FF8opSOP9s3KMCqP3",
      "include_colab_link": true
    },
    "kernelspec": {
      "name": "python3",
      "display_name": "Python 3"
    },
    "language_info": {
      "name": "python"
    }
  },
  "cells": [
    {
      "cell_type": "markdown",
      "metadata": {
        "id": "view-in-github",
        "colab_type": "text"
      },
      "source": [
        "<a href=\"https://colab.research.google.com/github/SeongwonTak/-KDT-_AI_2_Notes/blob/main/ML/Polynomial_Regression_and_Regularization.ipynb\" target=\"_parent\"><img src=\"https://colab.research.google.com/assets/colab-badge.svg\" alt=\"Open In Colab\"/></a>"
      ]
    },
    {
      "cell_type": "markdown",
      "metadata": {
        "id": "SbUf-X2VwX_l"
      },
      "source": [
        "# Programmers DevCourse 보충 : Polynomial Regression and Regularizaiton\n",
        "참고자료 : https://velog.io/@changhtun1/python-%EC%84%A0%ED%98%95-%ED%9A%8C%EA%B7%80-%EC%9D%B4%EB%A1%A0-%EB%B0%8F-%EC%8B%A4%EC%8A%B5"
      ]
    },
    {
      "cell_type": "markdown",
      "metadata": {
        "id": "kGd2ymKJwgHF"
      },
      "source": [
        "## Polynomial Regression\n",
        "\n"
      ]
    },
    {
      "cell_type": "markdown",
      "metadata": {
        "id": "w5JRWV4aws7c"
      },
      "source": [
        "### Basis Function\n",
        "비선형의 데이터에 대해서도, 선형 모델을 활용하여 학습시킬 수 있다.?\n",
        "이는 basis function을 활용하게 된다."
      ]
    },
    {
      "cell_type": "markdown",
      "metadata": {
        "id": "emhO3_aFyGHG"
      },
      "source": [
        "3차 함수의 상황을 예시로 들어보려고 한다."
      ]
    },
    {
      "cell_type": "code",
      "metadata": {
        "colab": {
          "base_uri": "https://localhost:8080/",
          "height": 265
        },
        "id": "YJOdTii4wRVD",
        "outputId": "6689308d-2e7a-455b-9713-6f3b564c23d0"
      },
      "source": [
        "import numpy as np\n",
        "import matplotlib.pyplot as plt\n",
        "\n",
        "data_num = 100\n",
        "x = 6 * np.random.rand(data_num, 1) - 3\n",
        "y = (x ** 3) - (x ** 2) + 3 * np.random.rand(data_num, 1)\n",
        "plt.scatter(x, y)\n",
        "plt.show()"
      ],
      "execution_count": 66,
      "outputs": [
        {
          "output_type": "display_data",
          "data": {
            "image/png": "[encoded data removed]",
            "text/plain": [
              "<Figure size 432x288 with 1 Axes>"
            ]
          },
          "metadata": {
            "tags": [],
            "needs_background": "light"
          }
        }
      ]
    },
    {
      "cell_type": "markdown",
      "metadata": {
        "id": "NHupZEOVyzPj"
      },
      "source": [
        "약간의 오차는 있어보이지만, 거의 3차함수이다.\n",
        "우리가 만든 식은 \n",
        "$$ f(x) = x ^ {3} - x ^ {2}\n",
        "이다. 여기에 약간의 Noise를 부여했다.   \n",
        "(주의! 내가 위에서 x값을 건드린 것은 정의역만 건드린 것이다!)  \n",
        "이제 점만 주어졌을 때, 이 식을 어떻게 찾아내야할지, 회귀문제를 풀어보자."
      ]
    },
    {
      "cell_type": "markdown",
      "metadata": {
        "id": "jPGJ18cl5-or"
      },
      "source": [
        "### Code"
      ]
    },
    {
      "cell_type": "code",
      "metadata": {
        "colab": {
          "base_uri": "https://localhost:8080/"
        },
        "id": "3Ss5_enMxNf4",
        "outputId": "0fc5e129-735b-4c7a-ae2d-45343274bb4a"
      },
      "source": [
        "from sklearn.preprocessing import PolynomialFeatures\n",
        "poly_features = PolynomialFeatures(degree = 3, include_bias = False)\n",
        "x_poly = poly_features.fit_transform(x)\n",
        "print(x[0])\n",
        "print(x_poly[0])"
      ],
      "execution_count": 67,
      "outputs": [
        {
          "output_type": "stream",
          "text": [
            "[0.69370241]\n",
            "[0.69370241 0.48122303 0.33382558]\n"
          ],
          "name": "stdout"
        }
      ]
    },
    {
      "cell_type": "markdown",
      "metadata": {
        "id": "d-dlUSQ54r40"
      },
      "source": [
        "poly_features.fit_transform 을 통해 basis를 만들었다.\n",
        "이제 예측을 진행해보고자 한다."
      ]
    },
    {
      "cell_type": "code",
      "metadata": {
        "colab": {
          "base_uri": "https://localhost:8080/"
        },
        "id": "AUF75xavzVm-",
        "outputId": "7fe04a3a-584e-46db-836a-1d971fdb5662"
      },
      "source": [
        "from sklearn.linear_model import LinearRegression\n",
        "lin_reg = LinearRegression()\n",
        "lin_reg.fit(x_poly, y)\n",
        "print(lin_reg.intercept_, lin_reg.coef_)"
      ],
      "execution_count": 68,
      "outputs": [
        {
          "output_type": "stream",
          "text": [
            "[1.48724303] [[-0.12307392 -1.01603979  1.01646416]]\n"
          ],
          "name": "stdout"
        }
      ]
    },
    {
      "cell_type": "markdown",
      "metadata": {
        "id": "hbmyDD-Z5IJW"
      },
      "source": [
        "이를 해석하면,\n",
        "$$ 1.01646416x^{3} -1.01603979x^{2} - 0.12307293x + 1.48724303$$\n",
        "로 예측을 하게 된 것이다. "
      ]
    },
    {
      "cell_type": "markdown",
      "metadata": {
        "id": "pbHJMAZB5mO_"
      },
      "source": [
        "실제로 만든 식과는 상수항 정도의 차이로 보이나, rand값이 [0, 1]에서의 균등분포임을 감안하면, 식이 매우 잘 회귀되었음을 알 수 있다."
      ]
    },
    {
      "cell_type": "markdown",
      "metadata": {
        "id": "R0m0Lgmz7MOI"
      },
      "source": [
        "이를 그림을 통해 확인하면 다음과 같다."
      ]
    },
    {
      "cell_type": "code",
      "metadata": {
        "colab": {
          "base_uri": "https://localhost:8080/",
          "height": 265
        },
        "id": "bZkLAZpT7OUk",
        "outputId": "0a913a8f-3606-4636-f990-5f32b1f75b1b"
      },
      "source": [
        "x_new = np.linspace(-3, 3, 100).reshape(100, 1)\n",
        "x_new_poly = poly_features.transform(x_new)\n",
        "y_new = lin_reg.predict(x_new_poly)\n",
        "plt.scatter(x, y)\n",
        "plt.plot(x_new, y_new, 'r-', label = 'prediction')\n",
        "plt.legend()\n",
        "plt.show()"
      ],
      "execution_count": 72,
      "outputs": [
        {
          "output_type": "display_data",
          "data": {
            "image/png": "[encoded data removed]",
            "text/plain": [
              "<Figure size 432x288 with 1 Axes>"
            ]
          },
          "metadata": {
            "tags": [],
            "needs_background": "light"
          }
        }
      ]
    },
    {
      "cell_type": "markdown",
      "metadata": {
        "id": "_ZkyqPjd572k"
      },
      "source": [
        "## Regularization"
      ]
    },
    {
      "cell_type": "markdown",
      "metadata": {
        "id": "JXKA46rO93BK"
      },
      "source": [
        "기본적으로 회귀분석은 MSE를 오차함수로 사용한다.\n",
        "그러나 규제를 통해 과적합을 막아주고자 한다.\n",
        "\n"
      ]
    },
    {
      "cell_type": "markdown",
      "metadata": {
        "id": "mg2mQIl1CWhU"
      },
      "source": [
        "### L2 Regularization - Ridge Regularization\n",
        "각 가중치의 제곱의 합에 규제의 강도를 곱하는 형태이다. "
      ]
    },
    {
      "cell_type": "code",
      "metadata": {
        "id": "RQpyFt-F5AE9"
      },
      "source": [
        "from sklearn.linear_model import Ridge\n",
        "ridge = Ridge(alpha = 0.1)\n",
        "ridge.fit(x, y)\n",
        "pred = ridge.predict(x)"
      ],
      "execution_count": 73,
      "outputs": []
    },
    {
      "cell_type": "markdown",
      "metadata": {
        "id": "CP1gY0-uDGgZ"
      },
      "source": [
        "### L1 Regularization - Lasso Regularization\n",
        "각 가중치의 절대값의 합을 규제로 한다.\n",
        "불필요한 회귀 계수를 줄이고, 특성의 선택에 도움을 준다."
      ]
    },
    {
      "cell_type": "code",
      "metadata": {
        "id": "CuhGQF92C2pJ"
      },
      "source": [
        "from sklearn.linear_model import Lasso\n",
        "lasso = Lasso(alpha = 0.1)\n",
        "lasso.fit(x, y)\n",
        "pred = lasso.predict(x)"
      ],
      "execution_count": 75,
      "outputs": []
    },
    {
      "cell_type": "markdown",
      "metadata": {
        "id": "R64JP8y5FM7Q"
      },
      "source": [
        "규제에 대한 실습은, 다항회귀 example과 함께해야 한다.\n",
        "E2E 수업 이후 해당 내용을 추가하고자 한다."
      ]
    }
  ]
}