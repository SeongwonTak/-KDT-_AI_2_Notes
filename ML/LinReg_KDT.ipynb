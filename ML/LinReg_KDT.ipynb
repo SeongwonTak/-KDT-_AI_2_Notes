{
  "nbformat": 4,
  "nbformat_minor": 0,
  "metadata": {
    "colab": {
      "name": "LinReg_KDT.ipynb",
      "provenance": [],
      "authorship_tag": "ABX9TyOWFJGUK76ek5kArN246WIs",
      "include_colab_link": true
    },
    "kernelspec": {
      "name": "python3",
      "display_name": "Python 3"
    },
    "language_info": {
      "name": "python"
    }
  },
  "cells": [
    {
      "cell_type": "markdown",
      "metadata": {
        "id": "view-in-github",
        "colab_type": "text"
      },
      "source": [
        "<a href=\"https://colab.research.google.com/github/SeongwonTak/-KDT-_AI_2_Notes/blob/main/ML/LinReg_KDT.ipynb\" target=\"_parent\"><img src=\"https://colab.research.google.com/assets/colab-badge.svg\" alt=\"Open In Colab\"/></a>"
      ]
    },
    {
      "cell_type": "code",
      "metadata": {
        "id": "pCFIs6l-heBM"
      },
      "source": [
        "import matplotlib.pyplot as plt\n",
        "import seaborn as sns\n",
        "import numpy as np"
      ],
      "execution_count": 12,
      "outputs": []
    },
    {
      "cell_type": "code",
      "metadata": {
        "id": "D7_8u5IKhsRJ"
      },
      "source": [
        "rng = np.random.RandomState(9)"
      ],
      "execution_count": 13,
      "outputs": []
    },
    {
      "cell_type": "code",
      "metadata": {
        "colab": {
          "base_uri": "https://localhost:8080/",
          "height": 265
        },
        "id": "XXOPxMnniMqe",
        "outputId": "8a6b7e27-3702-43bf-8013-40f03eb9e54e"
      },
      "source": [
        "# 노이즈가 포함된 직선을 만듬\n",
        "x = 10 * rng.rand(50)\n",
        "y = 3 * x - 2 + rng.rand(50)\n",
        "plt.scatter(x, y)\n",
        "plt.show()"
      ],
      "execution_count": 14,
      "outputs": [
        {
          "output_type": "display_data",
          "data": {
            "image/png": "[encoded data removed]",
            "text/plain": [
              "<Figure size 432x288 with 1 Axes>"
            ]
          },
          "metadata": {
            "tags": [],
            "needs_background": "light"
          }
        }
      ]
    },
    {
      "cell_type": "code",
      "metadata": {
        "colab": {
          "base_uri": "https://localhost:8080/"
        },
        "id": "-7fG8-b7jc8o",
        "outputId": "67261f3c-1aa1-4bdf-a4f7-088dc25a70b3"
      },
      "source": [
        "x.shape"
      ],
      "execution_count": 18,
      "outputs": [
        {
          "output_type": "execute_result",
          "data": {
            "text/plain": [
              "(50,)"
            ]
          },
          "metadata": {
            "tags": []
          },
          "execution_count": 18
        }
      ]
    },
    {
      "cell_type": "code",
      "metadata": {
        "colab": {
          "base_uri": "https://localhost:8080/",
          "height": 286
        },
        "id": "o-4n1jL0iT7x",
        "outputId": "7143e227-3c09-40ca-bd57-67a68d158420"
      },
      "source": [
        "from sklearn.linear_model import LinearRegression\n",
        "model = LinearRegression(fit_intercept = True)\n",
        "\n",
        "#np.newaxis를 하는 이유는 2차원을 만들어주기 위해.\n",
        "\n",
        "model.fit(x[:, np.newaxis], y)\n",
        "xfit = np.linspace(0, 10, 1000)\n",
        "yfit = model.predict(xfit[:, np.newaxis])\n",
        "plt.scatter(x, y)\n",
        "plt.plot(xfit, yfit)"
      ],
      "execution_count": 16,
      "outputs": [
        {
          "output_type": "execute_result",
          "data": {
            "text/plain": [
              "[<matplotlib.lines.Line2D at 0x7fa61979ed10>]"
            ]
          },
          "metadata": {
            "tags": []
          },
          "execution_count": 16
        },
        {
          "output_type": "display_data",
          "data": {
            "image/png": "[encoded data removed]",
            "text/plain": [
              "<Figure size 432x288 with 1 Axes>"
            ]
          },
          "metadata": {
            "tags": [],
            "needs_background": "light"
          }
        }
      ]
    },
    {
      "cell_type": "code",
      "metadata": {
        "colab": {
          "base_uri": "https://localhost:8080/"
        },
        "id": "HE1H3aezjPGA",
        "outputId": "e5dddcc6-64dd-464d-b265-4550a7943bf3"
      },
      "source": [
        "print(\"model slope: \", model.coef_[0])\n",
        "print(\"model intercept: \", model.intercept_)"
      ],
      "execution_count": 19,
      "outputs": [
        {
          "output_type": "stream",
          "text": [
            "model slope:  3.0173889712233426\n",
            "model intercept:  -1.6787574965144838\n"
          ],
          "name": "stdout"
        }
      ]
    },
    {
      "cell_type": "code",
      "metadata": {
        "id": "hpLfFrBNkWIc"
      },
      "source": [
        "# 다차원의 경우\n",
        "x = 10 * rng.rand(100, 3)\n",
        "y = 0.5 + np.dot(x, [1.5, -2, 2])+rng.rand(100)\n"
      ],
      "execution_count": 22,
      "outputs": []
    },
    {
      "cell_type": "code",
      "metadata": {
        "colab": {
          "base_uri": "https://localhost:8080/"
        },
        "id": "COlS2uvBlN9T",
        "outputId": "4b268bd0-03d8-4776-ba88-6801cdfee9f0"
      },
      "source": [
        "model.fit(x, y)\n",
        "print(\"model slope: \", model.coef_)\n",
        "print(\"model intercept: \", model.intercept_)"
      ],
      "execution_count": 24,
      "outputs": [
        {
          "output_type": "stream",
          "text": [
            "model slope:  [ 1.5005945  -2.00095018  1.98959363]\n",
            "model intercept:  1.0506214008525117\n"
          ],
          "name": "stdout"
        }
      ]
    },
    {
      "cell_type": "markdown",
      "metadata": {
        "id": "k2CifKTmoRDk"
      },
      "source": [
        "## 다항함수로의 확장\n",
        "기저 함수를 $x^{n}$으로 확장하게 되면, 여전히 계수에 대해서는 선형이다.\n",
        "따라서, 선형 모델을 여전히 활용할 수 있다.\n",
        "\n",
        "scikit-learn에는 Polynomial Features라는 거를 통해 다항 기저함수를 정의할 수 있다."
      ]
    },
    {
      "cell_type": "code",
      "metadata": {
        "colab": {
          "base_uri": "https://localhost:8080/"
        },
        "id": "TVhC1HN8lahm",
        "outputId": "8ae5a8d2-c283-4fca-9a28-c104baedf6f3"
      },
      "source": [
        "from sklearn.preprocessing import PolynomialFeatures\n",
        "x = np.array([2, 3, 4])\n",
        "poly = PolynomialFeatures(3, include_bias = False)\n",
        "poly.fit_transform(x[:, None])"
      ],
      "execution_count": 26,
      "outputs": [
        {
          "output_type": "execute_result",
          "data": {
            "text/plain": [
              "array([[ 2.,  4.,  8.],\n",
              "       [ 3.,  9., 27.],\n",
              "       [ 4., 16., 64.]])"
            ]
          },
          "metadata": {
            "tags": []
          },
          "execution_count": 26
        }
      ]
    },
    {
      "cell_type": "code",
      "metadata": {
        "id": "0eSgTsdmpVn0"
      },
      "source": [
        "from sklearn.pipeline import make_pipeline\n",
        "poly_model = make_pipeline(PolynomialFeatures(7),\n",
        "                           LinearRegression())"
      ],
      "execution_count": 27,
      "outputs": []
    },
    {
      "cell_type": "code",
      "metadata": {
        "colab": {
          "base_uri": "https://localhost:8080/",
          "height": 265
        },
        "id": "PmNLWuSVqybh",
        "outputId": "3579eb45-efc9-4e6f-e575-6e9f04c7538e"
      },
      "source": [
        "x = 10 * rng.rand(50)\n",
        "y = np.sin(x) + 0.1 * rng.randn(50)\n",
        "plt.scatter(x, y)\n",
        "plt.show()"
      ],
      "execution_count": 30,
      "outputs": [
        {
          "output_type": "display_data",
          "data": {
            "image/png": "[encoded data removed]",
            "text/plain": [
              "<Figure size 432x288 with 1 Axes>"
            ]
          },
          "metadata": {
            "tags": [],
            "needs_background": "light"
          }
        }
      ]
    },
    {
      "cell_type": "code",
      "metadata": {
        "colab": {
          "base_uri": "https://localhost:8080/",
          "height": 283
        },
        "id": "4wWSCHA7q7xM",
        "outputId": "54557fa7-dca7-4d3e-fa9b-e7b377dbd6a4"
      },
      "source": [
        "poly_model.fit(x[:, np.newaxis], y)\n",
        "yfit = poly_model.predict(xfit[:,np.newaxis])\n",
        "\n",
        "plt.scatter(x, y)\n",
        "plt.plot(xfit, yfit)"
      ],
      "execution_count": 32,
      "outputs": [
        {
          "output_type": "execute_result",
          "data": {
            "text/plain": [
              "[<matplotlib.lines.Line2D at 0x7fa61cb90590>]"
            ]
          },
          "metadata": {
            "tags": []
          },
          "execution_count": 32
        },
        {
          "output_type": "display_data",
          "data": {
            "image/png": "[encoded data removed]",
            "text/plain": [
              "<Figure size 432x288 with 1 Axes>"
            ]
          },
          "metadata": {
            "tags": [],
            "needs_background": "light"
          }
        }
      ]
    },
    {
      "cell_type": "code",
      "metadata": {
        "colab": {
          "base_uri": "https://localhost:8080/"
        },
        "id": "g0f6fZPwrLHM",
        "outputId": "632eae0e-40ba-4c7e-9335-e1d12a30a033"
      },
      "source": [
        "print(poly_model)"
      ],
      "execution_count": 33,
      "outputs": [
        {
          "output_type": "stream",
          "text": [
            "Pipeline(memory=None,\n",
            "         steps=[('polynomialfeatures',\n",
            "                 PolynomialFeatures(degree=7, include_bias=True,\n",
            "                                    interaction_only=False, order='C')),\n",
            "                ('linearregression',\n",
            "                 LinearRegression(copy_X=True, fit_intercept=True, n_jobs=None,\n",
            "                                  normalize=False))],\n",
            "         verbose=False)\n"
          ],
          "name": "stdout"
        }
      ]
    },
    {
      "cell_type": "markdown",
      "metadata": {
        "id": "d3NPJy3BtZmg"
      },
      "source": [
        "# 규제함수의 적용\n",
        "모델이 필요 이상으로 flex해질 경우, 극단적인 계수 값을 가지게 된다. (과적합 문제 - Overfitting), \n"
      ]
    },
    {
      "cell_type": "markdown",
      "metadata": {
        "id": "rQkeC4RouG8F"
      },
      "source": [
        "### L-2 Regulariztion Ridge 회귀\n",
        "제곱합 기반"
      ]
    },
    {
      "cell_type": "markdown",
      "metadata": {
        "id": "hYYyibnquTXb"
      },
      "source": [
        "### L-1 Regularization  Lasso 회귀\n",
        "계수들의 절대값 합"
      ]
    }
  ]
}